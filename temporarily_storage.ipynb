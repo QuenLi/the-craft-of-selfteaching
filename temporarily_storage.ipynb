{
 "cells": [
  {
   "cell_type": "markdown",
   "id": "8724e80f-23e5-4b72-b5bf-417b92e3af8a",
   "metadata": {},
   "source": [
    "題目：兩個乒乓球隊進行比賽，各出三人，甲隊為 a、b、c 三人，乙隊為 x、y、z 三人。已抽籤決定比賽名單。有人向隊員打聽比賽的名單。 a 說他不和 x 比， c 說他不和 x、z 比，請編程序找出三隊賽手名單。"
   ]
  },
  {
   "cell_type": "code",
   "execution_count": 8,
   "id": "ebb73e01-1592-4c9e-9deb-616ceb5b80d5",
   "metadata": {},
   "outputs": [
    {
     "name": "stdout",
     "output_type": "stream",
     "text": [
      "[('a', 'x'), ('a', 'y'), ('a', 'z'), ('b', 'x'), ('b', 'y'), ('b', 'z'), ('c', 'x'), ('c', 'y'), ('c', 'z')]\n",
      "[('a', 'y'), ('a', 'z'), ('b', 'x'), ('b', 'y'), ('b', 'z'), ('c', 'y')]\n"
     ]
    }
   ],
   "source": [
    "list1 = ['a', 'b', 'c']\n",
    "list2 = ['x', 'y', 'z']\n",
    "list3 = []\n",
    "for i in list1:\n",
    "    for j in list2:\n",
    "        list3.append((i, j))\n",
    "        \n",
    "print(list3)\n",
    "list3.remove(('a', 'x'))\n",
    "list3.remove(('c', 'x'))\n",
    "list3.remove(('c', 'z'))\n",
    "print(list3)\n"
   ]
  },
  {
   "cell_type": "code",
   "execution_count": 22,
   "id": "875c9bfd-6b5b-4fee-a619-9797deceafca",
   "metadata": {},
   "outputs": [
    {
     "name": "stdout",
     "output_type": "stream",
     "text": [
      "('a', 'x')\n",
      "('a', 'y')\n",
      "('b', 'x')\n",
      "('b', 'y')\n",
      "('c', 'x')\n",
      "('c', 'y')\n",
      "('d', 'x')\n",
      "('d', 'y')\n"
     ]
    }
   ],
   "source": [
    "from itertools import product\n",
    "\n",
    "list_1 = ['a', 'b', 'c', 'd']\n",
    "list_2 = ['x', 'y']\n",
    "\n",
    "for i in product(list_1, list_2):\n",
    "    print(i)"
   ]
  },
  {
   "cell_type": "markdown",
   "id": "cce7832e-2926-46ab-8f6f-0f55cf8c2fb7",
   "metadata": {},
   "source": [
    "因此，最開頭的例子也可以寫成以下形式："
   ]
  },
  {
   "cell_type": "code",
   "execution_count": 33,
   "id": "9475b263-164e-41ba-b2b4-c9134297bec9",
   "metadata": {},
   "outputs": [
    {
     "name": "stdout",
     "output_type": "stream",
     "text": [
      "('a', 'x')\n",
      "('a', 'y')\n",
      "('a', 'z')\n",
      "('b', 'x')\n",
      "('b', 'y')\n",
      "('b', 'z')\n",
      "('c', 'x')\n",
      "('c', 'y')\n",
      "('c', 'z')\n"
     ]
    }
   ],
   "source": [
    "list1 = ['a', 'b', 'c']\n",
    "list2 = ['x', 'y', 'z']\n",
    "\n",
    "for i in list(product(list1, list2)):\n",
    "    if i == ['c','x']:\n",
    "        i.remove()\n",
    "    print(i)"
   ]
  },
  {
   "cell_type": "code",
   "execution_count": 37,
   "id": "b1fc940c-5d84-423e-920c-df93d0c6c4fc",
   "metadata": {},
   "outputs": [
    {
     "name": "stdout",
     "output_type": "stream",
     "text": [
      "|~~~~~~~~~~~~~~~~~~~~~~~~~~~~~pressone is very good|\n",
      "|~~~~~~~~~~~~~~pressone is very good~~~~~~~~~~~~~~~|\n",
      "|pressone is very good~~~~~~~~~~~~~~~~~~~~~~~~~~~~~|\n"
     ]
    }
   ],
   "source": [
    "s = \"pressone is very good\"\n",
    "print(f'|{s.rjust(50,\"~\")}|')\n",
    "print(f'|{s.center(50,\"~\")}|')\n",
    "print(f'|{s.ljust(50,\"~\")}|')"
   ]
  },
  {
   "cell_type": "code",
   "execution_count": 41,
   "id": "9d8b48f6-b2db-4e64-a410-2479e89e87d3",
   "metadata": {},
   "outputs": [
    {
     "name": "stdout",
     "output_type": "stream",
     "text": [
      "0\n",
      "1\n",
      "2\n",
      "3\n",
      "4\n",
      "5\n",
      "6\n",
      "7\n",
      "8\n",
      "9\n",
      "0123456789"
     ]
    }
   ],
   "source": [
    "brick = range(0,10)\n",
    "for i in brick:\n",
    "    print(i)\n",
    "    \n",
    "for j in brick:\n",
    "    print(j, end=\"\")"
   ]
  },
  {
   "cell_type": "code",
   "execution_count": 84,
   "id": "950652f3-72fc-46ea-bbfd-9e08bc2a6bd9",
   "metadata": {},
   "outputs": [
    {
     "name": "stdout",
     "output_type": "stream",
     "text": [
      "0\n",
      "01\n",
      "012\n",
      "0123\n",
      "01234\n",
      "012345\n",
      "0123456\n",
      "01234567\n",
      "012345678\n",
      "0123456789\n"
     ]
    }
   ],
   "source": [
    "def brick_game(n):\n",
    "    m = 1\n",
    "    for j in range(n):\n",
    "        brick = range(0, m)\n",
    "        if m < n + 1:\n",
    "            for i in brick:\n",
    "                print(i, end=\"\")\n",
    "            print(\"\")\n",
    "            m = m + 1\n",
    "                 \n",
    "brick_game(10)"
   ]
  },
  {
   "cell_type": "code",
   "execution_count": 83,
   "id": "c04c0c85-81e6-43c2-a609-fb9e5dfb94cc",
   "metadata": {},
   "outputs": [
    {
     "name": "stdout",
     "output_type": "stream",
     "text": [
      "4\n",
      "3\n",
      "2\n"
     ]
    }
   ],
   "source": [
    "a = range(4, 1, -1)\n",
    "for z in a:\n",
    "    print(z)"
   ]
  },
  {
   "cell_type": "code",
   "execution_count": 94,
   "id": "83dff52f-f53c-457b-9945-cca39d24205f",
   "metadata": {},
   "outputs": [
    {
     "name": "stdout",
     "output_type": "stream",
     "text": [
      "9876543210\n",
      "876543210\n",
      "76543210\n",
      "6543210\n",
      "543210\n",
      "43210\n",
      "3210\n",
      "210\n",
      "10\n",
      "0\n"
     ]
    }
   ],
   "source": [
    "def brick_game_2(n):\n",
    "    m = n\n",
    "    for j in range(n):\n",
    "        brick = range(m - 1, -1, -1)\n",
    "        if m > 0:\n",
    "            for i in brick:\n",
    "                print(i, end=\"\")\n",
    "            print(\"\")\n",
    "            m = m - 1\n",
    "                 \n",
    "brick_game_2(10)"
   ]
  },
  {
   "cell_type": "markdown",
   "id": "18569dbe-e384-4327-b5cb-cc180881fee4",
   "metadata": {},
   "source": [
    "請你寫出一段代碼，判斷美國隊長的工資水平，代碼需要滿足如下條件：\n",
    "1. 如果月工資小於等於500美元，顯示\"歡迎進入\"\n",
    "2. 如果月工資在100~500美元，顯示\"請找弗瑞\"\n",
    "3. 如果月工資小於等於100美元，顯示\"恭喜您\"\n",
    "4. 如果月工資在500~1000美元，顯示\"祝賀您\"\n",
    "5. 其他情況下，如果月工資大於1000美元，打印\"經濟危機\"\n",
    "6. 如果工資在1000~20000美元，打印\"您快比\"\n",
    "7. 如果月工資大於20000美元，打印\"您是不是\"\n",
    "\n",
    "不管賦值改變後輸出結果如何，都需要固定打印\"結束程序\"。\n"
   ]
  },
  {
   "cell_type": "code",
   "execution_count": null,
   "id": "17e4866c-2eb7-4b63-97c3-9cd18f97c846",
   "metadata": {
    "tags": []
   },
   "outputs": [
    {
     "ename": "NameError",
     "evalue": "name 'a' is not defined",
     "output_type": "error",
     "traceback": [
      "\u001b[1;31m---------------------------------------------------------------------------\u001b[0m",
      "\u001b[1;31mNameError\u001b[0m                                 Traceback (most recent call last)",
      "\u001b[1;32m~\\AppData\\Local\\Temp\\ipykernel_19616\\3465863775.py\u001b[0m in \u001b[0;36m<module>\u001b[1;34m\u001b[0m\n\u001b[1;32m----> 1\u001b[1;33m \u001b[0mdict1\u001b[0m \u001b[1;33m=\u001b[0m \u001b[1;33m{\u001b[0m\u001b[0ma\u001b[0m\u001b[1;33m:\u001b[0m\u001b[1;34m\"恭喜您\"\u001b[0m\u001b[1;33m,\u001b[0m\u001b[0mb\u001b[0m\u001b[1;33m:\u001b[0m\u001b[1;34m\"請找弗瑞\"\u001b[0m\u001b[1;33m,\u001b[0m\u001b[0mc\u001b[0m\u001b[1;33m:\u001b[0m\u001b[1;34m\"祝賀您\"\u001b[0m\u001b[1;33m,\u001b[0m\u001b[0md\u001b[0m\u001b[1;33m:\u001b[0m\u001b[1;34m\"您快比\"\u001b[0m\u001b[1;33m,\u001b[0m\u001b[0me\u001b[0m\u001b[1;33m:\u001b[0m\u001b[1;34m\"您是不是\"\u001b[0m\u001b[1;33m}\u001b[0m\u001b[1;33m\u001b[0m\u001b[1;33m\u001b[0m\u001b[0m\n\u001b[0m\u001b[0;32m      2\u001b[0m \u001b[0mdict2\u001b[0m \u001b[1;33m=\u001b[0m \u001b[1;33m{\u001b[0m\u001b[0mx\u001b[0m\u001b[1;33m:\u001b[0m\u001b[1;34m\"歡迎進入\"\u001b[0m\u001b[1;33m,\u001b[0m\u001b[0my\u001b[0m\u001b[1;33m:\u001b[0m\u001b[1;34m\"經濟危機\"\u001b[0m\u001b[1;33m}\u001b[0m\u001b[1;33m\u001b[0m\u001b[1;33m\u001b[0m\u001b[0m\n\u001b[0;32m      3\u001b[0m \u001b[1;33m\u001b[0m\u001b[0m\n\u001b[0;32m      4\u001b[0m \u001b[0msalary\u001b[0m \u001b[1;33m=\u001b[0m \u001b[0minput\u001b[0m\u001b[1;33m(\u001b[0m\u001b[1;34m\"請輸入您的月工資，以美元計\"\u001b[0m\u001b[1;33m)\u001b[0m\u001b[1;33m\u001b[0m\u001b[1;33m\u001b[0m\u001b[0m\n",
      "\u001b[1;31mNameError\u001b[0m: name 'a' is not defined"
     ]
    }
   ],
   "source": [
    "dict1 = {a:\"恭喜您\",b:\"請找弗瑞\",c:\"祝賀您\",d:\"您快比\",e:\"您是不是\"}\n",
    "dict2 = {x:\"歡迎進入\",y:\"經濟危機\"}\n",
    "\n",
    "salary = input(\"請輸入您的月工資，以美元計\")\n",
    "\n",
    "\n",
    "\n",
    "\n",
    "    \n"
   ]
  },
  {
   "cell_type": "code",
   "execution_count": 32,
   "id": "162ac94d-5174-4d82-94c2-c4df5aab5cc2",
   "metadata": {},
   "outputs": [
    {
     "name": "stdin",
     "output_type": "stream",
     "text": [
      "USD 1500\n"
     ]
    },
    {
     "name": "stdout",
     "output_type": "stream",
     "text": [
      "['150']\n",
      "['500']\n",
      "['1500']\n",
      "[]\n",
      "[]\n"
     ]
    }
   ],
   "source": [
    "import re\n",
    "\n",
    "test = input(\"USD\")\n",
    "\n",
    "pttn_1 = r'[0-4][0-9][0-9]'\n",
    "\n",
    "pttn_2 = r'[5-9][0-9][0-9]'\n",
    "\n",
    "pttn_3 = r'[1-9][0-9][0-9][0-9]'\n",
    "\n",
    "pttn_4 = r'1[0-9][0-9][0-9][0-9]'\n",
    "\n",
    "pttn_5 = r'[2-9][0-9][0-9][0-9][0-9]'\n",
    "\n",
    "list_pttn = [pttn_1, pttn_2, pttn_3, pttn_4, pttn_5]\n",
    "for pttn in list_pttn:\n",
    "    print(re.findall(pttn, test))\n",
    "    \n",
    "# 結論，Regex在這題沒法用啊!"
   ]
  },
  {
   "cell_type": "code",
   "execution_count": null,
   "id": "d0d71699-8f47-4f63-bcba-4928a2a6bb77",
   "metadata": {},
   "outputs": [],
   "source": []
  }
 ],
 "metadata": {
  "kernelspec": {
   "display_name": "Python 3 (ipykernel)",
   "language": "python",
   "name": "python3"
  },
  "language_info": {
   "codemirror_mode": {
    "name": "ipython",
    "version": 3
   },
   "file_extension": ".py",
   "mimetype": "text/x-python",
   "name": "python",
   "nbconvert_exporter": "python",
   "pygments_lexer": "ipython3",
   "version": "3.7.4"
  }
 },
 "nbformat": 4,
 "nbformat_minor": 5
}
